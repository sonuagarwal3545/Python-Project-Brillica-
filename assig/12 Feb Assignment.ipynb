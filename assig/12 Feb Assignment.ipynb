{
 "cells": [
  {
   "cell_type": "markdown",
   "id": "da19cdd4",
   "metadata": {},
   "source": [
    "## Map\n"
   ]
  },
  {
   "cell_type": "code",
   "execution_count": 1,
   "id": "bd7f9cee",
   "metadata": {},
   "outputs": [
    {
     "name": "stdout",
     "output_type": "stream",
     "text": [
      "[2, 4, 6, 8, 10]\n"
     ]
    }
   ],
   "source": [
    "#1. Explain the purpose of the `map()` function in Python and provide an example of how it can be used to apply a function to each element of an iterable.\n",
    "\n",
    "def double(x):\n",
    "    return x * 2\n",
    "\n",
    "\n",
    "numbers = [1, 2, 3, 4, 5]\n",
    "\n",
    "doubled_numbers = map(double, numbers)\n",
    "\n",
    "\n",
    "print(list(doubled_numbers))\n",
    "\n"
   ]
  },
  {
   "cell_type": "code",
   "execution_count": 2,
   "id": "571c5285",
   "metadata": {},
   "outputs": [
    {
     "name": "stdout",
     "output_type": "stream",
     "text": [
      "[1, 4, 9, 16, 25]\n"
     ]
    }
   ],
   "source": [
    "#2. Write a Python program that uses the `map()` function to square each element of a list of numbers.\n",
    "\n",
    "def square(x):\n",
    "    return x ** 2\n",
    "\n",
    "\n",
    "numbers = [1, 2, 3, 4, 5]\n",
    "\n",
    "\n",
    "squared_numbers = map(square, numbers)\n",
    "\n",
    "\n",
    "print(list(squared_numbers))\n",
    "\n",
    "\n"
   ]
  },
  {
   "cell_type": "code",
   "execution_count": 3,
   "id": "a2fb4a3b",
   "metadata": {},
   "outputs": [
    {
     "name": "stdout",
     "output_type": "stream",
     "text": [
      "\"The `map()` function and list comprehensions are both techniques in Python for applying a function to each element of an iterable, but they differ in syntax and sometimes in readability. Here are the main differences and considerations for when to choose one over the other:\n",
      "\n",
      "1. Syntax:\n",
      "   - `map()` function: Takes a function and an iterable as input. It applies the function to each element of the iterable and returns an iterator.\n",
      "   - List comprehension: Provides a concise way to create lists. It has a more compact syntax and allows for more complex operations than `map()`.\n",
      "\n",
      "2. Readability:\n",
      "   - `map()` function: Can sometimes be less readable, especially when using lambda functions or more complex operations.\n",
      "   - List comprehension: Generally considered more readable and Pythonic for simple operations.\n",
      "\n",
      "3. Functionality:\n",
      "   - `map()` function: Strictly applies a function to each element of an iterable. It's good for straightforward mapping operations.\n",
      "   - List comprehension: Offers more flexibility as it can include conditionals and multiple expressions. It's more versatile and can be used for more complex transformations.\n",
      "\n",
      "4. Performance:\n",
      "   - In terms of performance, `map()` and list comprehensions are usually similar. However, in some cases, list comprehensions can be slightly faster due to their optimized implementation in Python.\n",
      "\n",
      "5. When to choose one over the other**:\n",
      "   - Use `map()` when you have a simple transformation to apply to each element of an iterable, especially if the transformation is defined as a separate function.\n",
      "   - Use list comprehensions when you need more flexibility, such as filtering elements based on conditions or performing more complex transformations.\n",
      "   - If you're concerned about performance or memory usage, you might want to benchmark both approaches to see which one performs better for your specific use case.\n"
     ]
    }
   ],
   "source": [
    "#3. How does the `map()` function differ from a list comprehension in Python, and when would you choose one over the other?\n",
    "print(\"\"\"\"The `map()` function and list comprehensions are both techniques in Python for applying a function to each element of an iterable, but they differ in syntax and sometimes in readability. Here are the main differences and considerations for when to choose one over the other:\n",
    "\n",
    "1. Syntax:\n",
    "   - `map()` function: Takes a function and an iterable as input. It applies the function to each element of the iterable and returns an iterator.\n",
    "   - List comprehension: Provides a concise way to create lists. It has a more compact syntax and allows for more complex operations than `map()`.\n",
    "\n",
    "2. Readability:\n",
    "   - `map()` function: Can sometimes be less readable, especially when using lambda functions or more complex operations.\n",
    "   - List comprehension: Generally considered more readable and Pythonic for simple operations.\n",
    "\n",
    "3. Functionality:\n",
    "   - `map()` function: Strictly applies a function to each element of an iterable. It's good for straightforward mapping operations.\n",
    "   - List comprehension: Offers more flexibility as it can include conditionals and multiple expressions. It's more versatile and can be used for more complex transformations.\n",
    "\n",
    "4. Performance:\n",
    "   - In terms of performance, `map()` and list comprehensions are usually similar. However, in some cases, list comprehensions can be slightly faster due to their optimized implementation in Python.\n",
    "\n",
    "5. When to choose one over the other**:\n",
    "   - Use `map()` when you have a simple transformation to apply to each element of an iterable, especially if the transformation is defined as a separate function.\n",
    "   - Use list comprehensions when you need more flexibility, such as filtering elements based on conditions or performing more complex transformations.\n",
    "   - If you're concerned about performance or memory usage, you might want to benchmark both approaches to see which one performs better for your specific use case.\"\"\")\n",
    "\n"
   ]
  },
  {
   "cell_type": "code",
   "execution_count": 4,
   "id": "f6bc2988",
   "metadata": {},
   "outputs": [
    {
     "name": "stdout",
     "output_type": "stream",
     "text": [
      "['ALICE', 'BOB', 'CHARLIE', 'DAVID']\n"
     ]
    }
   ],
   "source": [
    "#4. Create a Python program that uses the `map()` function to convert a list of names to uppercase.\n",
    "\n",
    "# Function to convert a name to uppercase\n",
    "def convert_to_uppercase(name):\n",
    "    return name.upper()\n",
    "\n",
    "\n",
    "names = [\"Alice\", \"Bob\", \"Charlie\", \"David\"]\n",
    "\n",
    "\n",
    "uppercased_names = list(map(convert_to_uppercase, names))\n",
    "\n",
    "\n",
    "print(uppercased_names)\n"
   ]
  },
  {
   "cell_type": "code",
   "execution_count": 5,
   "id": "94231cc1",
   "metadata": {},
   "outputs": [
    {
     "name": "stdout",
     "output_type": "stream",
     "text": [
      "[5, 6, 6, 5, 10]\n"
     ]
    }
   ],
   "source": [
    "#5. Write a Python program that uses the `map()` function to calculate the length of each word in a list of strings.\n",
    "\n",
    "words = [\"apple\", \"banana\", \"orange\", \"grape\", \"watermelon\"]\n",
    "\n",
    "\n",
    "word_lengths = map(len, words)\n",
    "\n",
    "\n",
    "print(list(word_lengths))\n"
   ]
  },
  {
   "cell_type": "code",
   "execution_count": 6,
   "id": "1ab126b0",
   "metadata": {},
   "outputs": [
    {
     "name": "stdout",
     "output_type": "stream",
     "text": [
      "[6, 8, 10, 12]\n",
      "We define a custom function add_elements(x, y) that takes two arguments x and y and returns their sum.\n",
      "We have two lists of numbers list1 and list2.\n",
      "We use the map() function to apply the add_elements() function to corresponding elements of list1 and list2.\n",
      "The map() function returns an iterator that yields the results of applying the function to each pair of elements.\n",
      "Finally, we convert the iterator to a list and print the result.\n"
     ]
    }
   ],
   "source": [
    "#6. How can you use the `map()` function to apply a custom function to elements of multiple lists simultaneously in Python?\n",
    "\n",
    "def add_elements(x, y):\n",
    "    return x + y\n",
    "\n",
    "list1 = [1, 2, 3, 4]\n",
    "list2 = [5, 6, 7, 8]\n",
    "\n",
    "\n",
    "result = map(add_elements, list1, list2)\n",
    "\n",
    "\n",
    "print(list(result)) \n",
    "print(\"\"\"We define a custom function add_elements(x, y) that takes two arguments x and y and returns their sum.\n",
    "We have two lists of numbers list1 and list2.\n",
    "We use the map() function to apply the add_elements() function to corresponding elements of list1 and list2.\n",
    "The map() function returns an iterator that yields the results of applying the function to each pair of elements.\n",
    "Finally, we convert the iterator to a list and print the result.\"\"\")\n"
   ]
  },
  {
   "cell_type": "code",
   "execution_count": 7,
   "id": "8743a3bb",
   "metadata": {},
   "outputs": [
    {
     "name": "stdout",
     "output_type": "stream",
     "text": [
      "[32.0, 50.0, 68.0, 86.0, 104.0]\n"
     ]
    }
   ],
   "source": [
    "#7. Create a Python program that uses `map()` to convert a list of temperatures from Celsius to Fahrenheit.\n",
    "\n",
    "def celsius_to_fahrenheit(celsius):\n",
    "    return (celsius * 9/5) + 32\n",
    "\n",
    "\n",
    "temperatures_celsius = [0, 10, 20, 30, 40]\n",
    "\n",
    "# Using map() function to apply celsius_to_fahrenheit function to each temperature\n",
    "temperatures_fahrenheit = map(celsius_to_fahrenheit, temperatures_celsius)\n",
    "\n",
    "\n",
    "print(list(temperatures_fahrenheit))\n"
   ]
  },
  {
   "cell_type": "code",
   "execution_count": 8,
   "id": "593ab3dd",
   "metadata": {},
   "outputs": [
    {
     "name": "stdout",
     "output_type": "stream",
     "text": [
      "[3, 3, 2, 5, 2]\n"
     ]
    }
   ],
   "source": [
    "#8. Write a Python program that uses the `map()` function to round each element of a list of floating-point numbers to the nearest integer.\n",
    "\n",
    "float_numbers = [3.14, 2.718, 1.618, 4.669, 2.302]\n",
    "\n",
    "\n",
    "rounded_integers = map(round, float_numbers)\n",
    "\n",
    "\n",
    "print(list(rounded_integers))\n"
   ]
  },
  {
   "cell_type": "markdown",
   "id": "44508960",
   "metadata": {},
   "source": [
    "# Reduce :-"
   ]
  },
  {
   "cell_type": "code",
   "execution_count": 9,
   "id": "35bca0a4",
   "metadata": {},
   "outputs": [
    {
     "name": "stdout",
     "output_type": "stream",
     "text": [
      "15\n"
     ]
    }
   ],
   "source": [
    "#1. What is the `reduce()` function in Python, and what module should you import to use it? Provide an example of its basic usage.\n",
    "# Custom reduce function\n",
    "def my_reduce(func, iterable, initial=None):\n",
    "    iterator = iter(iterable)\n",
    "    if initial is None:\n",
    "        try:\n",
    "            initial = next(iterator)\n",
    "        except StopIteration:\n",
    "            raise TypeError(\"reduce() of empty sequence with no initial value\")\n",
    "    accumulator = initial\n",
    "    for item in iterator:\n",
    "        accumulator = func(accumulator, item)\n",
    "    return accumulator\n",
    "\n",
    "# Function to add two numbers\n",
    "def add(x, y):\n",
    "    return x + y\n",
    "\n",
    "# List of numbers\n",
    "numbers = [1, 2, 3, 4, 5]\n",
    "\n",
    "# Using custom reduce() function to add all the numbers in the list\n",
    "sum_of_numbers = my_reduce(add, numbers)\n",
    "\n",
    "print(sum_of_numbers)  # Output: 15 (1 + 2 + 3 + 4 + 5)\n"
   ]
  },
  {
   "cell_type": "code",
   "execution_count": 10,
   "id": "33274cdf",
   "metadata": {},
   "outputs": [
    {
     "name": "stdout",
     "output_type": "stream",
     "text": [
      "120\n"
     ]
    }
   ],
   "source": [
    "#2. Write a Python program that uses the `reduce()` function to find the product of all elements in a list.\n",
    "from functools import reduce\n",
    "\n",
    "\\\n",
    "numbers = [1, 2, 3, 4, 5]\n",
    "\n",
    "\n",
    "def multiply(x, y):\n",
    "    return x * y\n",
    "\n",
    "\n",
    "product = reduce(multiply, numbers)\n",
    "\n",
    "print(product)  \n"
   ]
  },
  {
   "cell_type": "code",
   "execution_count": 11,
   "id": "3a9da08b",
   "metadata": {},
   "outputs": [
    {
     "name": "stdout",
     "output_type": "stream",
     "text": [
      "37\n"
     ]
    }
   ],
   "source": [
    "#3. Create a Python program that uses `reduce()` to find the maximum element in a list of numbers.\n",
    "from functools import reduce\n",
    "\n",
    "\n",
    "numbers = [10, 25, 8, 37, 14]\n",
    "\n",
    "\n",
    "def find_max(x, y):\n",
    "    return x if x > y else y\n",
    "\n",
    "\n",
    "max_number = reduce(find_max, numbers)\n",
    "\n",
    "print(max_number)  \n"
   ]
  },
  {
   "cell_type": "code",
   "execution_count": 12,
   "id": "dda48101",
   "metadata": {},
   "outputs": [
    {
     "name": "stdout",
     "output_type": "stream",
     "text": [
      "Hello world!\n"
     ]
    }
   ],
   "source": [
    "#4. How can you use the `reduce()` function to concatenate a list of strings into a single string?\n",
    "from functools import reduce\n",
    "\n",
    "\n",
    "strings = [\"Hello\", \" \", \"world\", \"!\"]\n",
    "\n",
    "\n",
    "concatenated_string = reduce(lambda x, y: x + y, strings)\n",
    "\n",
    "print(concatenated_string)  \n"
   ]
  },
  {
   "cell_type": "code",
   "execution_count": 13,
   "id": "39ddf996",
   "metadata": {},
   "outputs": [
    {
     "name": "stdout",
     "output_type": "stream",
     "text": [
      "enter the number4\n",
      "Factorial of 4 is: 24\n"
     ]
    }
   ],
   "source": [
    "#5. Write a Python program that calculates the factorial of a number using the `reduce()` function.\n",
    "from functools import reduce\n",
    "\n",
    "\n",
    "def factorial(n):\n",
    "    return reduce(lambda x, y: x * y, range(1, n+1), 1)\n",
    "\n",
    "\n",
    "number = int(input(\"enter the number\"))\n",
    "\n",
    "\n",
    "factorial_result = factorial(number)\n",
    "\n",
    "print(\"Factorial of\", number, \"is:\", factorial_result)\n"
   ]
  },
  {
   "cell_type": "code",
   "execution_count": 14,
   "id": "2f12d6d8",
   "metadata": {},
   "outputs": [
    {
     "name": "stdout",
     "output_type": "stream",
     "text": [
      "GCD of the numbers is: 12\n"
     ]
    }
   ],
   "source": [
    "#6. Create a Python program that uses `reduce()` to find the GCD (Greatest Common Divisor) of a list of numbers.\n",
    "from functools import reduce\n",
    "import math\n",
    "\n",
    "\n",
    "def gcd(x, y):\n",
    "    return math.gcd(x, y)\n",
    "\n",
    "\n",
    "numbers = [24, 36, 48, 60]\n",
    "\n",
    "\n",
    "gcd_result = reduce(gcd, numbers)\n",
    "\n",
    "print(\"GCD of the numbers is:\", gcd_result) \n"
   ]
  },
  {
   "cell_type": "code",
   "execution_count": 15,
   "id": "939ff553",
   "metadata": {},
   "outputs": [
    {
     "name": "stdout",
     "output_type": "stream",
     "text": [
      "Sum of digits of 123456 is: 21\n"
     ]
    }
   ],
   "source": [
    "#7. Write a Python program that uses the `reduce()` function to find the sum of the digits of a given number.\n",
    "from functools import reduce\n",
    "\n",
    "\n",
    "def sum_of_digits(number):\n",
    "    return reduce(lambda x, y: int(x) + int(y), str(number), 0)\n",
    "\n",
    "# Input number\n",
    "number = 123456\n",
    "\n",
    "\n",
    "sum_of_digits_result = sum_of_digits(number)\n",
    "\n",
    "print(\"Sum of digits of\", number, \"is:\", sum_of_digits_result)  \n"
   ]
  },
  {
   "cell_type": "markdown",
   "id": "15bc3998",
   "metadata": {},
   "source": [
    "# Filter :-"
   ]
  },
  {
   "cell_type": "code",
   "execution_count": 16,
   "id": "1459bb5d",
   "metadata": {},
   "outputs": [
    {
     "name": "stdout",
     "output_type": "stream",
     "text": [
      "The filter() function in Python is used to create an iterator consisting of elements from an iterable (such as a list, tuple, or set) for which a specified filtering function returns True. \n",
      "In other words, it filters out elements from the iterable based on the criteria specified by the filtering function.\n",
      "[2, 4, 6, 8, 10]\n"
     ]
    }
   ],
   "source": [
    "#1. Explain the purpose of the `filter()` function in Python and provide an example of how it can be used to filter elements from an iterable.\n",
    "\n",
    "print(\"\"\"The filter() function in Python is used to create an iterator consisting of elements from an iterable (such as a list, tuple, or set) for which a specified filtering function returns True. \n",
    "In other words, it filters out elements from the iterable based on the criteria specified by the filtering function.\"\"\")\n",
    "\n",
    "\n",
    "def is_even(n):\n",
    "    return n % 2 == 0\n",
    "\n",
    "numbers = [1, 2, 3, 4, 5, 6, 7, 8, 9, 10]\n",
    "\n",
    "even_numbers = filter(is_even, numbers)\n",
    "\n",
    "print(list(even_numbers))\n"
   ]
  },
  {
   "cell_type": "code",
   "execution_count": 17,
   "id": "fa83b727",
   "metadata": {},
   "outputs": [
    {
     "name": "stdout",
     "output_type": "stream",
     "text": [
      "[2, 4, 6, 8, 10]\n"
     ]
    }
   ],
   "source": [
    "#2. Write a Python program that uses the `filter()` function to select even numbers from a list of integers.\n",
    "\n",
    "numbers = [1, 2, 3, 4, 5, 6, 7, 8, 9, 10]\n",
    "\n",
    "\n",
    "even_numbers = filter(lambda x: x % 2 == 0, numbers)\n",
    "\n",
    "\n",
    "print(list(even_numbers))\n"
   ]
  },
  {
   "cell_type": "code",
   "execution_count": 18,
   "id": "8e74b4c6",
   "metadata": {},
   "outputs": [
    {
     "name": "stdout",
     "output_type": "stream",
     "text": [
      "['Charlie']\n"
     ]
    }
   ],
   "source": [
    "#3. Create a Python program that uses the `filter()` function to select names that start with a specific letter from a list of strings.\n",
    "# List of names\n",
    "names = [\"Alice\", \"Bob\", \"Charlie\", \"David\", \"Eve\", \"Frank\"]\n",
    "\n",
    "# Specific letter to filter by\n",
    "specific_letter = \"C\"\n",
    "\n",
    "# Using filter() function to select names starting with the specific letter\n",
    "selected_names = filter(lambda name: name.startswith(specific_letter), names)\n",
    "\n",
    "# Converting the result to a list and printing it\n",
    "print(list(selected_names))\n",
    "\n",
    "\n",
    "\n",
    "\n"
   ]
  },
  {
   "cell_type": "code",
   "execution_count": 19,
   "id": "5e8bdf9e",
   "metadata": {},
   "outputs": [
    {
     "name": "stdout",
     "output_type": "stream",
     "text": [
      "[2, 3, 5, 7]\n"
     ]
    }
   ],
   "source": [
    "#4. Write a Python program that uses the `filter()` function to select prime numbers from a list of integers.\n",
    "# Function to check if a number is prime\n",
    "def is_prime(n):\n",
    "    if n <= 1:\n",
    "        return False\n",
    "    for i in range(2, int(n ** 0.5) + 1):\n",
    "        if n % i == 0:\n",
    "            return False\n",
    "    return True\n",
    "\n",
    "# List of numbers\n",
    "numbers = [1, 2, 3, 4, 5, 6, 7, 8, 9, 10]\n",
    "\n",
    "# Using filter() function to select prime numbers from the list\n",
    "prime_numbers = filter(is_prime, numbers)\n",
    "\n",
    "# Converting the result to a list and printing it\n",
    "print(list(prime_numbers))\n"
   ]
  },
  {
   "cell_type": "code",
   "execution_count": 20,
   "id": "08c10320",
   "metadata": {},
   "outputs": [
    {
     "name": "stdout",
     "output_type": "stream",
     "text": [
      "[1, 2, 3, 4, 5]\n"
     ]
    }
   ],
   "source": [
    "#5. How can you use the `filter()` function to remove None values from a list in Python?\n",
    "my_list = [1, None, 2, None, 3, None, 4, None, 5]\n",
    "\n",
    "\n",
    "filtered_list = list(filter(lambda x: x is not None, my_list))\n",
    "\n",
    "print(filtered_list)\n"
   ]
  },
  {
   "cell_type": "code",
   "execution_count": 21,
   "id": "f5bc1c41",
   "metadata": {},
   "outputs": [
    {
     "name": "stdout",
     "output_type": "stream",
     "text": [
      "Words longer than 6 characters: ['strawberry', 'watermelon']\n"
     ]
    }
   ],
   "source": [
    "#6. Create a Python program that uses `filter()` to select words longer than a certain length from a list of strings.\n",
    "def filter_long_words(word_list, length):\n",
    "    \"\"\"\n",
    "    Filter words longer than a certain length from a list of strings.\n",
    "    \n",
    "    Args:\n",
    "        word_list (list): List of strings.\n",
    "        length (int): Minimum length of words to filter.\n",
    "        \n",
    "    Returns:\n",
    "        list: List of words longer than the specified length.\n",
    "    \"\"\"\n",
    "    return list(filter(lambda word: len(word) > length, word_list))\n",
    "\n",
    "# Example usage:\n",
    "words = [\"apple\", \"banana\", \"orange\", \"strawberry\", \"grape\", \"watermelon\"]\n",
    "min_length = 6\n",
    "filtered_words = filter_long_words(words, min_length)\n",
    "print(\"Words longer than {} characters: {}\".format(min_length, filtered_words))\n"
   ]
  },
  {
   "cell_type": "code",
   "execution_count": 22,
   "id": "9d18775e",
   "metadata": {},
   "outputs": [
    {
     "name": "stdout",
     "output_type": "stream",
     "text": [
      "Values greater than 35: [40, 50, 60, 70]\n"
     ]
    }
   ],
   "source": [
    "#7. Write a Python program that uses the `filter()` function to select elements greater than a specified threshold from a list of values.\n",
    "def filter_greater_than_threshold(value_list, threshold):\n",
    "    \"\"\"\n",
    "    Filter elements greater than a specified threshold from a list of values.\n",
    "    \n",
    "    Args:\n",
    "        value_list (list): List of values.\n",
    "        threshold (int or float): Threshold value for filtering.\n",
    "        \n",
    "    Returns:\n",
    "        list: List of elements greater than the specified threshold.\n",
    "    \"\"\"\n",
    "    return list(filter(lambda x: x > threshold, value_list))\n",
    "\n",
    "# Example usage:\n",
    "values = [10, 20, 30, 40, 50, 60, 70]\n",
    "threshold = 35\n",
    "filtered_values = filter_greater_than_threshold(values, threshold)\n",
    "print(\"Values greater than {}: {}\".format(threshold, filtered_values))\n"
   ]
  },
  {
   "cell_type": "markdown",
   "id": "3b339efb",
   "metadata": {},
   "source": [
    "\n",
    "\n",
    "# Recursion:-"
   ]
  },
  {
   "cell_type": "code",
   "execution_count": 23,
   "id": "2665e858",
   "metadata": {},
   "outputs": [
    {
     "name": "stdout",
     "output_type": "stream",
     "text": [
      "Recursion is a programming technique where a function calls itself in order to solve smaller instances of the same problem. In Python, recursion is achieved by having a function call itself within its own definition.\n",
      "\n",
      "Recursion differs from iteration primarily in the way it repeats a set of instructions. While iteration involves using loops (e.g., for loop or while loop) to repeatedly execute a block of code until a certain condition is met, recursion achieves repetition through function calls.\n"
     ]
    }
   ],
   "source": [
    "#1. Explain the concept of recursion in Python. How does it differ from iteration?\n",
    "\n",
    "print(\"\"\"Recursion is a programming technique where a function calls itself in order to solve smaller instances of the same problem. In Python, recursion is achieved by having a function call itself within its own definition.\n",
    "\"\"\")\n",
    " #Exa:- \n",
    "def factorial(n):\n",
    "    if n == 0:\n",
    "        return 1\n",
    "    else:\n",
    "        return n * factorial(n - 1)\n",
    "    \n",
    "print(\"\"\"Recursion differs from iteration primarily in the way it repeats a set of instructions. While iteration involves using loops (e.g., for loop or while loop) to repeatedly execute a block of code until a certain condition is met, recursion achieves repetition through function calls.\"\"\")\n"
   ]
  },
  {
   "cell_type": "code",
   "execution_count": 24,
   "id": "bcd69b0e",
   "metadata": {},
   "outputs": [
    {
     "name": "stdout",
     "output_type": "stream",
     "text": [
      "Factorial of 5 is 120\n"
     ]
    }
   ],
   "source": [
    "#2. Write a Python program to calculate the factorial of a number using recursion.\n",
    "def factorial(n):\n",
    " \n",
    "    if n == 0:\n",
    "        return 1\n",
    "    else:\n",
    "        return n * factorial(n - 1)\n",
    "\n",
    "# Example usage:\n",
    "number = 5\n",
    "print(\"Factorial of\", number, \"is\", factorial(number))\n"
   ]
  },
  {
   "cell_type": "code",
   "execution_count": 25,
   "id": "0d447512",
   "metadata": {},
   "outputs": [
    {
     "name": "stdout",
     "output_type": "stream",
     "text": [
      "The 10 th Fibonacci number is: 55\n"
     ]
    }
   ],
   "source": [
    "#3. Create a recursive Python function to find the nth Fibonacci number.\n",
    "def fibonacci(n):\n",
    "    \n",
    "    \n",
    "    if n <= 1:\n",
    "        return n\n",
    "    else:\n",
    "        return fibonacci(n - 1) + fibonacci(n - 2)\n",
    "\n",
    "# Example usage:\n",
    "n = 10\n",
    "print(\"The\", n, \"th Fibonacci number is:\", fibonacci(n))\n",
    "\n",
    "\n"
   ]
  },
  {
   "cell_type": "code",
   "execution_count": 26,
   "id": "c3f95131",
   "metadata": {},
   "outputs": [
    {
     "name": "stdout",
     "output_type": "stream",
     "text": [
      "The sum of all elements in the list is: 15\n"
     ]
    }
   ],
   "source": [
    "#4. Write a recursive Python function to calculate the sum of all elements in a list.\n",
    "def list_sum(lst):\n",
    "    \n",
    "    if not lst:\n",
    "        return 0\n",
    "    else:\n",
    "        return lst[0] + list_sum(lst[1:])\n",
    "\n",
    "\n",
    "my_list = [1, 2, 3, 4, 5]\n",
    "print(\"The sum of all elements in the list is:\", list_sum(my_list))\n"
   ]
  },
  {
   "cell_type": "code",
   "execution_count": 27,
   "id": "ea76ea0e",
   "metadata": {},
   "outputs": [
    {
     "name": "stdout",
     "output_type": "stream",
     "text": [
      "To prevent a recursive function from running indefinitely and causing a stack overflow error, you can implement one or more of the following techniques:\n",
      "\n",
      "1. Base Case: Ensure that your recursive function has a base case that will eventually be reached, causing the recursion to stop. The base case should represent the simplest scenario or termination condition for the recursion.\n",
      "\n",
      "2. Bounding Parameters: Use bounding parameters or constraints to limit the depth or number of recursive calls. For example, you can introduce a maximum recursion depth or a threshold beyond which the recursion stops.\n",
      "\n",
      "3. Tail Recursion Optimization**: If your programming language supports tail call optimization, you can convert the recursive calls into tail recursive calls. Tail call optimization allows the compiler or interpreter to optimize tail-recursive functions so that they don't consume additional stack space.\n",
      "\n",
      "4. Memoization: If your recursive function involves redundant calculations, consider using memoization to store the results of previous function calls and reuse them when needed. Memoization can help reduce the number of recursive calls and improve performance.\n",
      "\n",
      "5. Iteration: In some cases, you can refactor the recursive function into an iterative solution using loops. Iterative solutions often consume less memory compared to recursive solutions and may be more efficient for certain problems.\n",
      "\n",
      "6. Test with Small Inputs: Before running your recursive function with large inputs, test it with small inputs to ensure that it terminates correctly and produces the expected results.\n",
      "\n",
      "By employing these techniques, you can mitigate the risk of infinite recursion and stack overflow errors in your recursive functions.\n"
     ]
    }
   ],
   "source": [
    "#5. How can you prevent a recursive function from running indefinitely, causing a stack overflow error?\n",
    "print(\"\"\"To prevent a recursive function from running indefinitely and causing a stack overflow error, you can implement one or more of the following techniques:\n",
    "\n",
    "1. Base Case: Ensure that your recursive function has a base case that will eventually be reached, causing the recursion to stop. The base case should represent the simplest scenario or termination condition for the recursion.\n",
    "\n",
    "2. Bounding Parameters: Use bounding parameters or constraints to limit the depth or number of recursive calls. For example, you can introduce a maximum recursion depth or a threshold beyond which the recursion stops.\n",
    "\n",
    "3. Tail Recursion Optimization**: If your programming language supports tail call optimization, you can convert the recursive calls into tail recursive calls. Tail call optimization allows the compiler or interpreter to optimize tail-recursive functions so that they don't consume additional stack space.\n",
    "\n",
    "4. Memoization: If your recursive function involves redundant calculations, consider using memoization to store the results of previous function calls and reuse them when needed. Memoization can help reduce the number of recursive calls and improve performance.\n",
    "\n",
    "5. Iteration: In some cases, you can refactor the recursive function into an iterative solution using loops. Iterative solutions often consume less memory compared to recursive solutions and may be more efficient for certain problems.\n",
    "\n",
    "6. Test with Small Inputs: Before running your recursive function with large inputs, test it with small inputs to ensure that it terminates correctly and produces the expected results.\n",
    "\n",
    "By employing these techniques, you can mitigate the risk of infinite recursion and stack overflow errors in your recursive functions.\"\"\")"
   ]
  },
  {
   "cell_type": "code",
   "execution_count": 28,
   "id": "508da475",
   "metadata": {},
   "outputs": [
    {
     "name": "stdout",
     "output_type": "stream",
     "text": [
      "The GCD of 48 and 18 is: 6\n"
     ]
    }
   ],
   "source": [
    "#6. Create a recursive Python function to find the greatest common divisor (GCD) of two numbers using the Euclidean algorithm.\n",
    "def gcd(a, b):\n",
    "    \n",
    "    if b == 0:\n",
    "        return a\n",
    "    else:\n",
    "        return gcd(b, a % b)\n",
    "\n",
    "# Example usage:\n",
    "num1 = 48\n",
    "num2 = 18\n",
    "print(\"The GCD of\", num1, \"and\", num2, \"is:\", gcd(num1, num2))\n"
   ]
  },
  {
   "cell_type": "code",
   "execution_count": 29,
   "id": "02404374",
   "metadata": {},
   "outputs": [
    {
     "name": "stdout",
     "output_type": "stream",
     "text": [
      "Original string: hello\n",
      "Reversed string: olleh\n"
     ]
    }
   ],
   "source": [
    "#7. Write a recursive Python function to reverse a string.\n",
    "def reverse_string(s):\n",
    "    \n",
    "    if len(s) == 0:\n",
    "        return s\n",
    "    else:\n",
    "        return reverse_string(s[1:]) + s[0]\n",
    "\n",
    "# Example usage:\n",
    "input_string = \"hello\"\n",
    "print(\"Original string:\", input_string)\n",
    "print(\"Reversed string:\", reverse_string(input_string))\n"
   ]
  },
  {
   "cell_type": "code",
   "execution_count": 30,
   "id": "cb590afd",
   "metadata": {},
   "outputs": [
    {
     "name": "stdout",
     "output_type": "stream",
     "text": [
      "Result of 2 raised to the power of 5 is: 32\n"
     ]
    }
   ],
   "source": [
    "#8. Create a recursive Python function to calculate the power of a number (x^n).\n",
    "def power(x, n):\n",
    "\n",
    "    if n == 0:\n",
    "        return 1\n",
    "    elif n < 0:\n",
    "        return 1 / power(x, -n)\n",
    "    else:\n",
    "        return x * power(x, n - 1)\n",
    "\n",
    "# Example usage:\n",
    "base = 2\n",
    "exponent = 5\n",
    "print(\"Result of\", base, \"raised to the power of\", exponent, \"is:\", power(base, exponent))\n",
    "\n"
   ]
  },
  {
   "cell_type": "code",
   "execution_count": 31,
   "id": "7fb126fa",
   "metadata": {},
   "outputs": [
    {
     "name": "stdout",
     "output_type": "stream",
     "text": [
      "All permutations of the string 'abc':\n",
      "['abc', 'acb', 'bac', 'bca', 'cab', 'cba']\n"
     ]
    }
   ],
   "source": [
    "#9. Write a recursive Python function to find all permutations of a given string.\n",
    "def permutations(string):\n",
    "   \n",
    "    if len(string) == 1:\n",
    "        return [string]\n",
    "    \n",
    "    perms = []\n",
    "    for i in range(len(string)):\n",
    "        # Extract the current character\n",
    "        current_char = string[i]\n",
    "        \n",
    "        # Generate all permutations of the substring excluding the current character\n",
    "        remaining_chars = string[:i] + string[i+1:]\n",
    "        remaining_perms = permutations(remaining_chars)\n",
    "        \n",
    "        # Add the current character to each permutation of the remaining substring\n",
    "        for perm in remaining_perms:\n",
    "            perms.append(current_char + perm)\n",
    "    \n",
    "    return perms\n",
    "\n",
    "# Example usage:\n",
    "input_string = \"abc\"\n",
    "print(\"All permutations of the string '{}':\".format(input_string))\n",
    "print(permutations(input_string))\n"
   ]
  },
  {
   "cell_type": "code",
   "execution_count": 32,
   "id": "847f97a6",
   "metadata": {},
   "outputs": [
    {
     "name": "stdout",
     "output_type": "stream",
     "text": [
      "Is 'radar' a palindrome?\n",
      "True\n"
     ]
    }
   ],
   "source": [
    "#10. Write a recursive Python function to check if a string is a palindrome.\n",
    "def is_palindrome(string):\n",
    "    \n",
    "    # Base case: if the string is empty or has only one character, it's a palindrome\n",
    "    if len(string) <= 1:\n",
    "        return True\n",
    "    \n",
    "    elif string[0] == string[-1]:\n",
    "        return is_palindrome(string[1:-1])\n",
    "    else:\n",
    "        return False\n",
    "\n",
    "\n",
    "input_string = \"radar\"\n",
    "print(\"Is '{}' a palindrome?\".format(input_string))\n",
    "print(is_palindrome(input_string))\n"
   ]
  },
  {
   "cell_type": "code",
   "execution_count": 33,
   "id": "a6033965",
   "metadata": {},
   "outputs": [
    {
     "name": "stdout",
     "output_type": "stream",
     "text": [
      "All possible combinations of ['a', 'b', 'c'] are:\n",
      "[[], ['a'], ['b'], ['a', 'b'], ['c'], ['a', 'c'], ['b', 'c'], ['a', 'b', 'c']]\n"
     ]
    }
   ],
   "source": [
    "#11. Create a recursive Python function to generate all possible combinations of a list of elements.\n",
    "\n",
    "def combinations(elements):\n",
    "   \n",
    "    if len(elements) == 0:\n",
    "        return [[]]\n",
    "    \n",
    "    # Extract the first element\n",
    "    first_element = elements[0]\n",
    "    \n",
    "    # Generate combinations without the first element\n",
    "    rest_combinations = combinations(elements[1:])\n",
    "    \n",
    "    # Combine the first element with each combination generated without it\n",
    "    new_combinations = []\n",
    "    for combination in rest_combinations:\n",
    "        new_combinations.append(combination)\n",
    "        new_combinations.append([first_element] + combination)\n",
    "    \n",
    "    return new_combinations\n",
    "\n",
    "# Example usage:\n",
    "elements = ['a', 'b', 'c']\n",
    "print(\"All possible combinations of\", elements, \"are:\")\n",
    "print(combinations(elements))\n"
   ]
  },
  {
   "cell_type": "code",
   "execution_count": 34,
   "id": "a1cf6b3f",
   "metadata": {},
   "outputs": [
    {
     "name": "stdout",
     "output_type": "stream",
     "text": [
      "Original string: Hello, world!\n",
      "Reversed string: !dlrow ,olleH\n"
     ]
    }
   ],
   "source": [
    "\n",
    "#1. Write a program to reverse a string.\n",
    "def reverse_string(input_string):\n",
    "    reversed_string = \"\"\n",
    "    for char in input_string:\n",
    "        reversed_string = char + reversed_string\n",
    "    return reversed_string\n",
    "\n",
    "# Example usage:\n",
    "input_string = \"Hello, world!\"\n",
    "reversed_str = reverse_string(input_string)\n",
    "print(\"Original string:\", input_string)\n",
    "print(\"Reversed string:\", reversed_str)\n"
   ]
  },
  {
   "cell_type": "markdown",
   "id": "94632cf8",
   "metadata": {},
   "source": [
    "# Manipulation of function "
   ]
  },
  {
   "cell_type": "code",
   "execution_count": 35,
   "id": "763354ae",
   "metadata": {},
   "outputs": [
    {
     "name": "stdout",
     "output_type": "stream",
     "text": [
      "Is the string 'A man, a plan, a canal, Panama' a palindrome?\n",
      "False\n"
     ]
    }
   ],
   "source": [
    "#2. Check if a string is a palindrome.\n",
    "def is_palindrome(input_string):\n",
    "    # Convert the input string to lowercase to ignore case\n",
    "    input_string = input_string.lower()\n",
    "    \n",
    "    # Remove whitespace from the input string\n",
    "    input_string = input_string.replace(\" \", \"\")\n",
    "    \n",
    "    # Check if the string is equal to its reverse\n",
    "    return input_string == input_string[::-1]\n",
    "\n",
    "# Example usage:\n",
    "input_string = \"A man, a plan, a canal, Panama\"\n",
    "print(\"Is the string '{}' a palindrome?\".format(input_string))\n",
    "print(is_palindrome(input_string))\n"
   ]
  },
  {
   "cell_type": "code",
   "execution_count": 36,
   "id": "4203f526",
   "metadata": {},
   "outputs": [
    {
     "name": "stdout",
     "output_type": "stream",
     "text": [
      "Original string: Hello, world!\n",
      "Uppercase string: HELLO, WORLD!\n"
     ]
    }
   ],
   "source": [
    "#3. Convert a string to uppercase.\n",
    "def to_uppercase(input_string):\n",
    "    return input_string.upper()\n",
    "\n",
    "# Example usage:\n",
    "input_string = \"Hello, world!\"\n",
    "uppercase_string = to_uppercase(input_string)\n",
    "print(\"Original string:\", input_string)\n",
    "print(\"Uppercase string:\", uppercase_string)\n"
   ]
  },
  {
   "cell_type": "code",
   "execution_count": 37,
   "id": "edb87540",
   "metadata": {},
   "outputs": [
    {
     "name": "stdout",
     "output_type": "stream",
     "text": [
      "Original string: Hello, world!\n",
      "Lowercase string: hello, world!\n"
     ]
    }
   ],
   "source": [
    "#4. Convert a string to lowercase.\n",
    "def to_lowercase(input_string):\n",
    "    return input_string.lower()\n",
    "\n",
    "# Example usage:\n",
    "input_string = \"Hello, world!\"\n",
    "lowercase_string = to_lowercase(input_string)\n",
    "print(\"Original string:\", input_string)\n",
    "print(\"Lowercase string:\", lowercase_string)\n"
   ]
  },
  {
   "cell_type": "code",
   "execution_count": 38,
   "id": "5cc436b0",
   "metadata": {},
   "outputs": [
    {
     "name": "stdout",
     "output_type": "stream",
     "text": [
      "Number of vowels in the string 'Hello, world!': 3\n"
     ]
    }
   ],
   "source": [
    "#5. Count the number of vowels in a string.\n",
    "def count_vowels(input_string):\n",
    "    vowels = \"aeiouAEIOU\"\n",
    "    count = 0\n",
    "    for char in input_string:\n",
    "        if char in vowels:\n",
    "            count += 1\n",
    "    return count\n",
    "\n",
    "# Example usage:\n",
    "input_string = \"Hello, world!\"\n",
    "num_vowels = count_vowels(input_string)\n",
    "print(\"Number of vowels in the string '{}': {}\".format(input_string, num_vowels))\n"
   ]
  },
  {
   "cell_type": "code",
   "execution_count": 39,
   "id": "6ddc3dd0",
   "metadata": {},
   "outputs": [
    {
     "name": "stdout",
     "output_type": "stream",
     "text": [
      "Number of consonants in the string 'Hello, world!': 7\n"
     ]
    }
   ],
   "source": [
    "#6. Count the number of consonants in a string.\n",
    "def count_consonants(input_string):\n",
    "    consonants = \"bcdfghjklmnpqrstvwxyzBCDFGHJKLMNPQRSTVWXYZ\"\n",
    "    count = 0\n",
    "    for char in input_string:\n",
    "        if char in consonants:\n",
    "            count += 1\n",
    "    return count\n",
    "\n",
    "# Example usage:\n",
    "input_string = \"Hello, world!\"\n",
    "num_consonants = count_consonants(input_string)\n",
    "print(\"Number of consonants in the string '{}': {}\".format(input_string, num_consonants))\n"
   ]
  },
  {
   "cell_type": "code",
   "execution_count": 40,
   "id": "16b28cdd",
   "metadata": {},
   "outputs": [
    {
     "name": "stdout",
     "output_type": "stream",
     "text": [
      "Original string: Hello,   world!   How are  you?\n",
      "String with whitespaces removed: Hello,world!Howareyou?\n"
     ]
    }
   ],
   "source": [
    "#7. Remove all whitespaces from a string.\n",
    "def remove_whitespace(input_string):\n",
    "    return input_string.replace(\" \", \"\")\n",
    "\n",
    "# Example usage:\n",
    "input_string = \"Hello,   world!   How are  you?\"\n",
    "no_whitespace_string = remove_whitespace(input_string)\n",
    "print(\"Original string:\", input_string)\n",
    "print(\"String with whitespaces removed:\", no_whitespace_string)\n"
   ]
  },
  {
   "cell_type": "code",
   "execution_count": 41,
   "id": "cae22b6c",
   "metadata": {},
   "outputs": [
    {
     "name": "stdout",
     "output_type": "stream",
     "text": [
      "Length of the string 'Hello, world!': 13\n"
     ]
    }
   ],
   "source": [
    "#8. Find the length of a string without using the `len()` function.\n",
    "def string_length(input_string):\n",
    "    count = 0\n",
    "    for char in input_string:\n",
    "        count += 1\n",
    "    return count\n",
    "\n",
    "# Example usage:\n",
    "input_string = \"Hello, world!\"\n",
    "length = string_length(input_string)\n",
    "print(\"Length of the string '{}': {}\".format(input_string, length))\n"
   ]
  },
  {
   "cell_type": "code",
   "execution_count": 42,
   "id": "f609eea8",
   "metadata": {},
   "outputs": [
    {
     "name": "stdout",
     "output_type": "stream",
     "text": [
      "The string 'Hello, world! How are you?' contains the word 'world'.\n"
     ]
    }
   ],
   "source": [
    "#9. Check if a string contains a specific word.\n",
    "def contains_word(input_string, word):\n",
    "    return word in input_string\n",
    "\n",
    "# Example usage:\n",
    "input_string = \"Hello, world! How are you?\"\n",
    "word_to_check = \"world\"\n",
    "if contains_word(input_string, word_to_check):\n",
    "    print(\"The string '{}' contains the word '{}'.\".format(input_string, word_to_check))\n",
    "else:\n",
    "    print(\"The string '{}' does not contain the word '{}'.\".format(input_string, word_to_check))\n"
   ]
  },
  {
   "cell_type": "code",
   "execution_count": 43,
   "id": "06e7dbcc",
   "metadata": {},
   "outputs": [
    {
     "name": "stdout",
     "output_type": "stream",
     "text": [
      "Original string: Hello, world! How are you?\n",
      "Modified string: Hello, Python! How are you?\n"
     ]
    }
   ],
   "source": [
    "#10. Replace a word in a string with another word.\n",
    "def replace_word(input_string, old_word, new_word):\n",
    "    return input_string.replace(old_word, new_word)\n",
    "\n",
    "# Example usage:\n",
    "input_string = \"Hello, world! How are you?\"\n",
    "old_word = \"world\"\n",
    "new_word = \"Python\"\n",
    "modified_string = replace_word(input_string, old_word, new_word)\n",
    "print(\"Original string:\", input_string)\n",
    "print(\"Modified string:\", modified_string)\n"
   ]
  },
  {
   "cell_type": "code",
   "execution_count": 44,
   "id": "f1adb98c",
   "metadata": {},
   "outputs": [
    {
     "name": "stdout",
     "output_type": "stream",
     "text": [
      "The word 'world' appears 1 times in the string 'Hello, world! How are you? Hello, world again!'.\n"
     ]
    }
   ],
   "source": [
    "#11. Count the occurrences of a word in a string.\n",
    "\n",
    "def count_word_occurrences(input_string, word):\n",
    "    # Split the input string into words\n",
    "    words = input_string.split()\n",
    "    \n",
    "    # Count the occurrences of the target word\n",
    "    count = 0\n",
    "    for w in words:\n",
    "        if w == word:\n",
    "            count += 1\n",
    "    return count\n",
    "\n",
    "# Example usage:\n",
    "input_string = \"Hello, world! How are you? Hello, world again!\"\n",
    "word_to_count = \"world\"\n",
    "occurrences = count_word_occurrences(input_string, word_to_count)\n",
    "print(\"The word '{}' appears {} times in the string '{}'.\".format(word_to_count, occurrences, input_string))\n"
   ]
  },
  {
   "cell_type": "code",
   "execution_count": 45,
   "id": "6872b714",
   "metadata": {},
   "outputs": [
    {
     "name": "stdout",
     "output_type": "stream",
     "text": [
      "The word 'world' first occurs at index 6 in the string 'Hello, world! How are you? Hello, world again!'.\n"
     ]
    }
   ],
   "source": [
    "#12. Find the first occurrence of a word in a string.\n",
    "\n",
    "def find_first_occurrence(input_string, word):\n",
    "    # Split the input string into words\n",
    "    words = input_string.split()\n",
    "    \n",
    "    # Iterate over the words to find the first occurrence of the target word\n",
    "    for i, w in enumerate(words):\n",
    "        if w == word:\n",
    "            return i\n",
    "    \n",
    "    # If the word is not found, return -1\n",
    "    return -1\n",
    "\n",
    "# Example usage:\n",
    "input_string = \"Hello, world! How are you? Hello, world again!\"\n",
    "word_to_find = \"world\"\n",
    "first_occurrence_index = find_first_occurrence(input_string, word_to_find)\n",
    "if first_occurrence_index != -1:\n",
    "    print(\"The word '{}' first occurs at index {} in the string '{}'.\".format(word_to_find, first_occurrence_index, input_string))\n",
    "else:\n",
    "    print(\"The word '{}' does not occur in the string '{}'.\".format(word_to_find, input_string))\n"
   ]
  },
  {
   "cell_type": "code",
   "execution_count": 46,
   "id": "6fd2797b",
   "metadata": {},
   "outputs": [
    {
     "name": "stdout",
     "output_type": "stream",
     "text": [
      "The word 'world' last occurs at index 6 in the string 'Hello, world! How are you? Hello, world again!'.\n"
     ]
    }
   ],
   "source": [
    "#13. Find the last occurrence of a word in a string.\n",
    "def find_last_occurrence(input_string, word):\n",
    "    # Split the input string into words\n",
    "    words = input_string.split()\n",
    "    \n",
    "    # Iterate over the words to find the last occurrence of the target word\n",
    "    last_index = -1\n",
    "    for i, w in enumerate(words):\n",
    "        if w == word:\n",
    "            last_index = i\n",
    "    \n",
    "    return last_index\n",
    "\n",
    "# Example usage:\n",
    "input_string = \"Hello, world! How are you? Hello, world again!\"\n",
    "word_to_find = \"world\"\n",
    "last_occurrence_index = find_last_occurrence(input_string, word_to_find)\n",
    "if last_occurrence_index != -1:\n",
    "    print(\"The word '{}' last occurs at index {} in the string '{}'.\".format(word_to_find, last_occurrence_index, input_string))\n",
    "else:\n",
    "    print(\"The word '{}' does not occur in the string '{}'.\".format(word_to_find, input_string))\n"
   ]
  },
  {
   "cell_type": "code",
   "execution_count": 47,
   "id": "db7f8750",
   "metadata": {},
   "outputs": [
    {
     "name": "stdout",
     "output_type": "stream",
     "text": [
      "Original string: Hello, world! How are you?\n",
      "List of words: ['Hello,', 'world!', 'How', 'are', 'you?']\n"
     ]
    }
   ],
   "source": [
    "#14. Split a string into a list of words.\n",
    "def split_string(input_string):\n",
    "    return input_string.split()\n",
    "\n",
    "# Example usage:\n",
    "input_string = \"Hello, world! How are you?\"\n",
    "word_list = split_string(input_string)\n",
    "print(\"Original string:\", input_string)\n",
    "print(\"List of words:\", word_list)\n",
    "\n"
   ]
  },
  {
   "cell_type": "code",
   "execution_count": 48,
   "id": "d3855aba",
   "metadata": {},
   "outputs": [
    {
     "name": "stdout",
     "output_type": "stream",
     "text": [
      "List of words: ['Hello,', 'world!', 'How', 'are', 'you?']\n",
      "Joined string: Hello, world! How are you?\n"
     ]
    }
   ],
   "source": [
    "#15. Join a list of words into a string\n",
    "def join_words(words):\n",
    "    return ' '.join(words)\n",
    "\n",
    "# Example usage:\n",
    "word_list = [\"Hello,\", \"world!\", \"How\", \"are\", \"you?\"]\n",
    "joined_string = join_words(word_list)\n",
    "print(\"List of words:\", word_list)\n",
    "print(\"Joined string:\", joined_string)\n"
   ]
  },
  {
   "cell_type": "markdown",
   "id": "2184e8d9",
   "metadata": {},
   "source": [
    "# List Operations Practice Problems"
   ]
  },
  {
   "cell_type": "code",
   "execution_count": 49,
   "id": "a7179cf1",
   "metadata": {},
   "outputs": [
    {
     "name": "stdout",
     "output_type": "stream",
     "text": [
      "[1, 2, 3, 4, 5, 6, 7, 8, 9, 10]\n"
     ]
    }
   ],
   "source": [
    "#1. Create a list with integers from 1 to 10.\n",
    "my_list = list(range(1, 11))\n",
    "print(my_list)\n"
   ]
  },
  {
   "cell_type": "code",
   "execution_count": 50,
   "id": "f7adca6e",
   "metadata": {},
   "outputs": [
    {
     "name": "stdout",
     "output_type": "stream",
     "text": [
      "Length of the list: 10\n"
     ]
    }
   ],
   "source": [
    "#2. Find the length of a list without using the `len()` function.\n",
    "my_list = [1, 2, 3, 4, 5, 6, 7, 8, 9, 10]\n",
    "count = 0\n",
    "\n",
    "for _ in my_list:\n",
    "    count += 1\n",
    "\n",
    "print(\"Length of the list:\", count)\n"
   ]
  },
  {
   "cell_type": "code",
   "execution_count": 51,
   "id": "92da2fe5",
   "metadata": {},
   "outputs": [
    {
     "name": "stdout",
     "output_type": "stream",
     "text": [
      "[1, 2, 3, 4, 5, 6]\n"
     ]
    }
   ],
   "source": [
    "#3. Append an element to the end of a list.\n",
    "my_list = [1, 2, 3, 4, 5]\n",
    "element_to_append = 6\n",
    "\n",
    "my_list.append(element_to_append)\n",
    "\n",
    "print(my_list)\n"
   ]
  },
  {
   "cell_type": "code",
   "execution_count": 52,
   "id": "5c0c16af",
   "metadata": {},
   "outputs": [
    {
     "name": "stdout",
     "output_type": "stream",
     "text": [
      "[1, 2, 3, 4, 5, 6]\n"
     ]
    }
   ],
   "source": [
    "#4. Insert an element at a specific index in a list.\n",
    "my_list = [1, 2, 3, 5, 6]\n",
    "element_to_insert = 4\n",
    "index_to_insert = 3\n",
    "\n",
    "my_list.insert(index_to_insert, element_to_insert)\n",
    "\n",
    "print(my_list)\n"
   ]
  },
  {
   "cell_type": "code",
   "execution_count": 53,
   "id": "f15bf741",
   "metadata": {},
   "outputs": [
    {
     "name": "stdout",
     "output_type": "stream",
     "text": [
      "[1, 2, 4, 5]\n"
     ]
    }
   ],
   "source": [
    "#5. Remove an element from a list by its value.\n",
    "my_list = [1, 2, 3, 4, 5]\n",
    "element_to_remove = 3\n",
    "\n",
    "my_list.remove(element_to_remove)\n",
    "\n",
    "print(my_list)\n"
   ]
  },
  {
   "cell_type": "code",
   "execution_count": 54,
   "id": "18546220",
   "metadata": {},
   "outputs": [
    {
     "name": "stdout",
     "output_type": "stream",
     "text": [
      "[1, 2, 4, 5]\n"
     ]
    }
   ],
   "source": [
    "#6. Remove an element from a list by its index.\n",
    "my_list = [1, 2, 3, 4, 5]\n",
    "index_to_remove = 2\n",
    "\n",
    "del my_list[index_to_remove]\n",
    "\n",
    "print(my_list)\n"
   ]
  },
  {
   "cell_type": "code",
   "execution_count": 55,
   "id": "d3aea430",
   "metadata": {},
   "outputs": [
    {
     "name": "stdout",
     "output_type": "stream",
     "text": [
      "Element 3 exists in the list.\n"
     ]
    }
   ],
   "source": [
    "#7. Check if an element exists in a list.\n",
    "my_list = [1, 2, 3, 4, 5]\n",
    "element_to_check = 3\n",
    "\n",
    "if element_to_check in my_list:\n",
    "    print(\"Element\", element_to_check, \"exists in the list.\")\n",
    "else:\n",
    "    print(\"Element\", element_to_check, \"does not exist in the list.\")\n"
   ]
  },
  {
   "cell_type": "code",
   "execution_count": 56,
   "id": "b6a64cfb",
   "metadata": {},
   "outputs": [
    {
     "name": "stdout",
     "output_type": "stream",
     "text": [
      "Index of the first occurrence of 3 : 2\n"
     ]
    }
   ],
   "source": [
    "#8. Find the index of the first occurrence of an element in a list.\n",
    "my_list = [1, 2, 3, 4, 5, 3]\n",
    "element_to_find = 3\n",
    "\n",
    "index = my_list.index(element_to_find)\n",
    "\n",
    "print(\"Index of the first occurrence of\", element_to_find, \":\", index)\n"
   ]
  },
  {
   "cell_type": "code",
   "execution_count": 57,
   "id": "d64965f2",
   "metadata": {},
   "outputs": [
    {
     "name": "stdout",
     "output_type": "stream",
     "text": [
      "Number of occurrences of 3 : 2\n"
     ]
    }
   ],
   "source": [
    "#9. Count the occurrences of an element in a list.\n",
    "my_list = [1, 2, 3, 4, 5, 3]\n",
    "element_to_count = 3\n",
    "\n",
    "occurrences = my_list.count(element_to_count)\n",
    "\n",
    "print(\"Number of occurrences of\", element_to_count, \":\", occurrences)\n"
   ]
  },
  {
   "cell_type": "code",
   "execution_count": 58,
   "id": "28658698",
   "metadata": {},
   "outputs": [
    {
     "name": "stdout",
     "output_type": "stream",
     "text": [
      "Reversed list: [5, 4, 3, 2, 1]\n"
     ]
    }
   ],
   "source": [
    "#10. Reverse the order of elements in a list\n",
    "my_list = [1, 2, 3, 4, 5]\n",
    "\n",
    "my_list.reverse()\n",
    "\n",
    "print(\"Reversed list:\", my_list)\n"
   ]
  },
  {
   "cell_type": "markdown",
   "id": "59ad614e",
   "metadata": {},
   "source": [
    "# Access, Length, Count, Tuple"
   ]
  },
  {
   "cell_type": "code",
   "execution_count": 59,
   "id": "33527b84",
   "metadata": {},
   "outputs": [
    {
     "name": "stdout",
     "output_type": "stream",
     "text": [
      "(1, 2, 3, 4, 5)\n"
     ]
    }
   ],
   "source": [
    "#1. Create a tuple with integers from 1 to 5.\n",
    "my_tuple = (1, 2, 3, 4, 5)\n",
    "print(my_tuple)\n"
   ]
  },
  {
   "cell_type": "code",
   "execution_count": 60,
   "id": "d7a3c89c",
   "metadata": {},
   "outputs": [
    {
     "name": "stdout",
     "output_type": "stream",
     "text": [
      "3\n"
     ]
    }
   ],
   "source": [
    "#2. Access the third element of a tuple.\n",
    "my_tuple = (1, 2, 3, 4, 5)\n",
    "third_element = my_tuple[2]\n",
    "print(third_element)\n"
   ]
  },
  {
   "cell_type": "code",
   "execution_count": 61,
   "id": "817a9890",
   "metadata": {},
   "outputs": [
    {
     "name": "stdout",
     "output_type": "stream",
     "text": [
      "Length of the tuple: 5\n"
     ]
    }
   ],
   "source": [
    "#3. Find the length of a tuple without using the `len()` function.\n",
    "my_tuple = (1, 2, 3, 4, 5)\n",
    "length = 0\n",
    "for _ in my_tuple:\n",
    "    length += 1\n",
    "print(\"Length of the tuple:\", length)\n",
    "\n"
   ]
  },
  {
   "cell_type": "code",
   "execution_count": 62,
   "id": "ccce0329",
   "metadata": {},
   "outputs": [
    {
     "name": "stdout",
     "output_type": "stream",
     "text": [
      "Number of occurrences of 2 : 3\n"
     ]
    }
   ],
   "source": [
    "#4. Count the occurrences of an element in a tuple.\n",
    "my_tuple = (1, 2, 3, 4, 2, 5, 2)\n",
    "element_to_count = 2\n",
    "occurrences = my_tuple.count(element_to_count)\n",
    "print(\"Number of occurrences of\", element_to_count, \":\", occurrences)\n"
   ]
  },
  {
   "cell_type": "code",
   "execution_count": 63,
   "id": "1da7fab9",
   "metadata": {},
   "outputs": [
    {
     "name": "stdout",
     "output_type": "stream",
     "text": [
      "Index of the first occurrence of 2 : 1\n"
     ]
    }
   ],
   "source": [
    "#5. Find the index of the first occurrence of an element in a tuple.\n",
    "my_tuple = (1, 2, 3, 4, 2, 5, 2)\n",
    "element_to_find = 2\n",
    "index_of_first_occurrence = my_tuple.index(element_to_find)\n",
    "print(\"Index of the first occurrence of\", element_to_find, \":\", index_of_first_occurrence)\n",
    "\n",
    "\n"
   ]
  },
  {
   "cell_type": "code",
   "execution_count": 64,
   "id": "eeb6483b",
   "metadata": {},
   "outputs": [
    {
     "name": "stdout",
     "output_type": "stream",
     "text": [
      "3 exists in the tuple.\n"
     ]
    }
   ],
   "source": [
    "#6. Check if an element exists in a tuple.\n",
    "my_tuple = (1, 2, 3, 4, 5)\n",
    "element_to_check = 3\n",
    "if element_to_check in my_tuple:\n",
    "    print(element_to_check, \"exists in the tuple.\")\n",
    "else:\n",
    "    print(element_to_check, \"does not exist in the tuple.\")\n"
   ]
  },
  {
   "cell_type": "code",
   "execution_count": 65,
   "id": "1f9dba6a",
   "metadata": {},
   "outputs": [
    {
     "name": "stdout",
     "output_type": "stream",
     "text": [
      "Tuple converted to list: [1, 2, 3, 4, 5]\n"
     ]
    }
   ],
   "source": [
    "#7. Convert a tuple to a list.\n",
    "my_tuple = (1, 2, 3, 4, 5)\n",
    "my_list = list(my_tuple)\n",
    "print(\"Tuple converted to list:\", my_list)\n"
   ]
  },
  {
   "cell_type": "code",
   "execution_count": 66,
   "id": "c0ed02ed",
   "metadata": {},
   "outputs": [
    {
     "name": "stdout",
     "output_type": "stream",
     "text": [
      "List converted to tuple: (1, 2, 3, 4, 5)\n"
     ]
    }
   ],
   "source": [
    "#8. Convert a list to a tuple.\n",
    "my_list = [1, 2, 3, 4, 5]\n",
    "my_tuple = tuple(my_list)\n",
    "print(\"List converted to tuple:\", my_tuple)\n"
   ]
  },
  {
   "cell_type": "code",
   "execution_count": 67,
   "id": "15a321ec",
   "metadata": {},
   "outputs": [
    {
     "name": "stdout",
     "output_type": "stream",
     "text": [
      "Unpacked values: a = 1 , b = 2 , c = 3\n"
     ]
    }
   ],
   "source": [
    "#9. Unpack the elements of a tuple into variables.\n",
    "my_tuple = (1, 2, 3)\n",
    "a, b, c = my_tuple\n",
    "print(\"Unpacked values: a =\", a, \", b =\", b, \", c =\", c)\n"
   ]
  },
  {
   "cell_type": "code",
   "execution_count": 68,
   "id": "d2aa21a9",
   "metadata": {},
   "outputs": [
    {
     "name": "stdout",
     "output_type": "stream",
     "text": [
      "Tuple of even numbers from 1 to 10: (2, 4, 6, 8, 10)\n"
     ]
    }
   ],
   "source": [
    "#10. Create a tuple of even numbers from 1 to 10.\n",
    "even_numbers_tuple = tuple(num for num in range(2, 11, 2))\n",
    "print(\"Tuple of even numbers from 1 to 10:\", even_numbers_tuple)\n"
   ]
  },
  {
   "cell_type": "code",
   "execution_count": 69,
   "id": "2948a559",
   "metadata": {},
   "outputs": [
    {
     "name": "stdout",
     "output_type": "stream",
     "text": [
      "Tuple of odd numbers from 1 to 10: (1, 3, 5, 7, 9)\n"
     ]
    }
   ],
   "source": [
    "#11. Create a tuple of odd numbers from 1 to 10.\n",
    "odd_numbers_tuple = tuple(num for num in range(1, 11, 2))\n",
    "print(\"Tuple of odd numbers from 1 to 10:\", odd_numbers_tuple)\n",
    "\n"
   ]
  },
  {
   "cell_type": "code",
   "execution_count": 70,
   "id": "b3cdc705",
   "metadata": {},
   "outputs": [
    {
     "name": "stdout",
     "output_type": "stream",
     "text": [
      "Concatenated tuple: (1, 2, 3, 4, 5, 6)\n"
     ]
    }
   ],
   "source": [
    "#12. Concatenate two tuples.\n",
    "tuple1 = (1, 2, 3)\n",
    "tuple2 = (4, 5, 6)\n",
    "concatenated_tuple = tuple1 + tuple2\n",
    "print(\"Concatenated tuple:\", concatenated_tuple)\n"
   ]
  },
  {
   "cell_type": "code",
   "execution_count": 71,
   "id": "eb19357c",
   "metadata": {},
   "outputs": [
    {
     "name": "stdout",
     "output_type": "stream",
     "text": [
      "Repeated tuple three times: (1, 2, 3, 1, 2, 3, 1, 2, 3)\n"
     ]
    }
   ],
   "source": [
    "#13. Repeat a tuple three times.\n",
    "original_tuple = (1, 2, 3)\n",
    "repeated_tuple = original_tuple * 3\n",
    "print(\"Repeated tuple three times:\", repeated_tuple)\n"
   ]
  },
  {
   "cell_type": "code",
   "execution_count": 72,
   "id": "d81f92b9",
   "metadata": {},
   "outputs": [
    {
     "name": "stdout",
     "output_type": "stream",
     "text": [
      "Tuple is empty.\n"
     ]
    }
   ],
   "source": [
    "#14. Check if a tuple is empty.\n",
    "my_tuple = ()\n",
    "if not my_tuple:\n",
    "    print(\"Tuple is empty.\")\n",
    "else:\n",
    "    print(\"Tuple is not empty.\")\n"
   ]
  },
  {
   "cell_type": "code",
   "execution_count": 73,
   "id": "5168eaae",
   "metadata": {},
   "outputs": [
    {
     "name": "stdout",
     "output_type": "stream",
     "text": [
      "Nested tuple: ((1, 2), (3, 4), (5, 6))\n"
     ]
    }
   ],
   "source": [
    "#15. Create a nested tuple.\n",
    "nested_tuple = ((1, 2), (3, 4), (5, 6))\n",
    "print(\"Nested tuple:\", nested_tuple)\n"
   ]
  },
  {
   "cell_type": "code",
   "execution_count": 74,
   "id": "0a805d41",
   "metadata": {},
   "outputs": [
    {
     "name": "stdout",
     "output_type": "stream",
     "text": [
      "First element of the nested tuple: 1\n"
     ]
    }
   ],
   "source": [
    "#16. Access the first element of a nested tuple.\n",
    "nested_tuple = ((1, 2), (3, 4), (5, 6))\n",
    "first_element = nested_tuple[0][0]\n",
    "print(\"First element of the nested tuple:\", first_element)\n"
   ]
  },
  {
   "cell_type": "code",
   "execution_count": 75,
   "id": "b7012a8c",
   "metadata": {},
   "outputs": [
    {
     "name": "stdout",
     "output_type": "stream",
     "text": [
      "Tuple with a single element: (1,)\n"
     ]
    }
   ],
   "source": [
    "#17. Create a tuple with a single element.\n",
    "single_element_tuple = (1,)\n",
    "print(\"Tuple with a single element:\", single_element_tuple)\n"
   ]
  },
  {
   "cell_type": "code",
   "execution_count": 76,
   "id": "cf30fb9f",
   "metadata": {},
   "outputs": [
    {
     "name": "stdout",
     "output_type": "stream",
     "text": [
      "Tuples are not equal.\n"
     ]
    }
   ],
   "source": [
    "#18. Compare two tuples.\n",
    "tuple1 = (1, 2, 3)\n",
    "tuple2 = (1, 2, 4)\n",
    "\n",
    "if tuple1 == tuple2:\n",
    "    print(\"Tuples are equal.\")\n",
    "else:\n",
    "    print(\"Tuples are not equal.\")\n"
   ]
  },
  {
   "cell_type": "code",
   "execution_count": 77,
   "id": "8e45259b",
   "metadata": {},
   "outputs": [],
   "source": [
    "#19. Delete a tuple.\n",
    "my_tuple= (1, 2, 3)\n",
    "del my_tuple\n"
   ]
  },
  {
   "cell_type": "code",
   "execution_count": 78,
   "id": "b82ebb44",
   "metadata": {},
   "outputs": [
    {
     "name": "stdout",
     "output_type": "stream",
     "text": [
      "Sliced tuple: (3, 4, 5, 6)\n"
     ]
    }
   ],
   "source": [
    "#20. Slice a tuple\n",
    "my_tuple = (1, 2, 3, 4, 5, 6, 7, 8, 9, 10)\n",
    "\n",
    "# Slice from index 2 to index 6 (exclusive)\n",
    "sliced_tuple = my_tuple[2:6]\n",
    "print(\"Sliced tuple:\", sliced_tuple)\n"
   ]
  },
  {
   "cell_type": "markdown",
   "id": "74eaa147",
   "metadata": {},
   "source": [
    "# # Set Operation"
   ]
  },
  {
   "cell_type": "code",
   "execution_count": 79,
   "id": "b711a474",
   "metadata": {},
   "outputs": [
    {
     "data": {
      "text/plain": [
       "{1, 2, 3, 4, 5}"
      ]
     },
     "execution_count": 79,
     "metadata": {},
     "output_type": "execute_result"
    }
   ],
   "source": [
    "#1. Create a set with integers from 1 to 5.\n",
    "my_set = {1, 2, 3, 4, 5}\n",
    "my_set"
   ]
  },
  {
   "cell_type": "code",
   "execution_count": 80,
   "id": "faa46340",
   "metadata": {},
   "outputs": [
    {
     "data": {
      "text/plain": [
       "{1, 2, 3, 4, 5, 6}"
      ]
     },
     "execution_count": 80,
     "metadata": {},
     "output_type": "execute_result"
    }
   ],
   "source": [
    "#2. Add an element to a set.\n",
    "my_set = {1, 2, 3, 4, 5}\n",
    "my_set.add(6)\n",
    "my_set"
   ]
  },
  {
   "cell_type": "code",
   "execution_count": 81,
   "id": "b5b31c68",
   "metadata": {},
   "outputs": [
    {
     "data": {
      "text/plain": [
       "{1, 2, 4, 5}"
      ]
     },
     "execution_count": 81,
     "metadata": {},
     "output_type": "execute_result"
    }
   ],
   "source": [
    "#3. Remove an element from a set.\n",
    "my_set = {1, 2, 3, 4, 5}\n",
    "my_set.remove(3)\n",
    "my_set"
   ]
  },
  {
   "cell_type": "code",
   "execution_count": 82,
   "id": "6df31162",
   "metadata": {},
   "outputs": [
    {
     "name": "stdout",
     "output_type": "stream",
     "text": [
      "3 exists in the set\n",
      "6 does not exist in the set\n"
     ]
    }
   ],
   "source": [
    "#4. Check if an element exists in a set.\n",
    "my_set = {1, 2, 3, 4, 5}\n",
    "\n",
    "# Check if 3 exists in the set\n",
    "if 3 in my_set:\n",
    "    print(\"3 exists in the set\")\n",
    "else:\n",
    "    print(\"3 does not exist in the set\")\n",
    "\n",
    "# Check if 6 exists in the set\n",
    "if 6 in my_set:\n",
    "    print(\"6 exists in the set\")\n",
    "else:\n",
    "    print(\"6 does not exist in the set\")\n"
   ]
  },
  {
   "cell_type": "code",
   "execution_count": 83,
   "id": "c1611b31",
   "metadata": {},
   "outputs": [
    {
     "name": "stdout",
     "output_type": "stream",
     "text": [
      "Length of the set: 5\n"
     ]
    }
   ],
   "source": [
    "#5. Find the length of a set without using the `len()` function.\n",
    "my_set = {1, 2, 3, 4, 5}\n",
    "count = 0\n",
    "\n",
    "for _ in my_set:\n",
    "    count += 1\n",
    "\n",
    "print(\"Length of the set:\", count)\n"
   ]
  },
  {
   "cell_type": "code",
   "execution_count": 84,
   "id": "9e2ab123",
   "metadata": {},
   "outputs": [
    {
     "name": "stdout",
     "output_type": "stream",
     "text": [
      "Set after clearing: set()\n"
     ]
    }
   ],
   "source": [
    "#6. Clear all elements from a set.\n",
    "my_set = {1, 2, 3, 4, 5}\n",
    "my_set.clear()\n",
    "print(\"Set after clearing:\", my_set)\n"
   ]
  },
  {
   "cell_type": "code",
   "execution_count": 85,
   "id": "cb2f58bb",
   "metadata": {},
   "outputs": [
    {
     "name": "stdout",
     "output_type": "stream",
     "text": [
      "{2, 4, 6, 8, 10}\n"
     ]
    }
   ],
   "source": [
    "#7. Create a set of even numbers from 1 to 10.\n",
    "even_numbers = {x for x in range(1, 11) if x % 2 == 0}\n",
    "print(even_numbers)\n"
   ]
  },
  {
   "cell_type": "code",
   "execution_count": 86,
   "id": "f7b26c80",
   "metadata": {},
   "outputs": [
    {
     "name": "stdout",
     "output_type": "stream",
     "text": [
      "{1, 3, 5, 7, 9}\n"
     ]
    }
   ],
   "source": [
    "#8. Create a set of odd numbers from 1 to 10.\n",
    "odd_numbers = {x for x in range(1, 11) if x % 2 != 0}\n",
    "print(odd_numbers)\n"
   ]
  },
  {
   "cell_type": "code",
   "execution_count": 87,
   "id": "3d932084",
   "metadata": {},
   "outputs": [
    {
     "name": "stdout",
     "output_type": "stream",
     "text": [
      "Union using union() method: {1, 2, 3, 4, 5, 6, 7, 8}\n"
     ]
    }
   ],
   "source": [
    "#9. Find the union of two sets.\n",
    "set1 = {1, 2, 3, 4, 5}\n",
    "set2 = {4, 5, 6, 7, 8}\n",
    "\n",
    "union_set = set1.union(set2)\n",
    "print(\"Union using union() method:\", union_set)\n"
   ]
  },
  {
   "cell_type": "code",
   "execution_count": 88,
   "id": "1a50516e",
   "metadata": {},
   "outputs": [
    {
     "name": "stdout",
     "output_type": "stream",
     "text": [
      "Intersection using '&' operator: {4, 5}\n"
     ]
    }
   ],
   "source": [
    "#10. Find the intersection of two sets.\n",
    "set1 = {1, 2, 3, 4, 5}\n",
    "set2 = {4, 5, 6, 7, 8}\n",
    "\n",
    "intersection_set = set1 & set2\n",
    "print(\"Intersection using '&' operator:\", intersection_set)\n"
   ]
  },
  {
   "cell_type": "code",
   "execution_count": 89,
   "id": "e07f5790",
   "metadata": {},
   "outputs": [
    {
     "name": "stdout",
     "output_type": "stream",
     "text": [
      "Ascending order: {'b': 1, 'c': 2, 'a': 3}\n",
      "Descending order: {'a': 3, 'c': 2, 'b': 1}\n"
     ]
    }
   ],
   "source": [
    "#1. Write a Python script to sort (ascending and descending) a dictionary by value.\n",
    "# Sample dictionary\n",
    "my_dict = {'a': 3, 'b': 1, 'c': 2}\n",
    "\n",
    "# Sorting in ascending order\n",
    "sorted_asc = dict(sorted(my_dict.items(), key=lambda item: item[1]))\n",
    "\n",
    "# Sorting in descending order\n",
    "sorted_desc = dict(sorted(my_dict.items(), key=lambda item: item[1], reverse=True))\n",
    "\n",
    "print(\"Ascending order:\", sorted_asc)\n",
    "print(\"Descending order:\", sorted_desc)\n"
   ]
  },
  {
   "cell_type": "code",
   "execution_count": 90,
   "id": "219389e3",
   "metadata": {},
   "outputs": [
    {
     "name": "stdout",
     "output_type": "stream",
     "text": [
      "{'a': 1, 'b': 2, 'c': 3}\n"
     ]
    }
   ],
   "source": [
    "#2. Write a Python script to add a key to a dictionary.\n",
    "# Sample dictionary\n",
    "my_dict = {'a': 1, 'b': 2}\n",
    "\n",
    "# Adding a new key-value pair\n",
    "my_dict['c'] = 3\n",
    "\n",
    "print(my_dict)\n"
   ]
  },
  {
   "cell_type": "code",
   "execution_count": 91,
   "id": "8542b8fb",
   "metadata": {},
   "outputs": [
    {
     "name": "stdout",
     "output_type": "stream",
     "text": [
      "Concatenated dictionary using update(): {'a': 1, 'b': 2, 'c': 3, 'd': 4, 'e': 5, 'f': 6}\n",
      "Concatenated dictionary using unpacking operator: {'a': 1, 'b': 2, 'c': 3, 'd': 4, 'e': 5, 'f': 6}\n"
     ]
    }
   ],
   "source": [
    "#3. Write a Python script to concatenate the following dictionaries to create a new one.\n",
    "# Sample dictionaries\n",
    "dict1 = {'a': 1, 'b': 2}\n",
    "dict2 = {'c': 3, 'd': 4}\n",
    "dict3 = {'e': 5, 'f': 6}\n",
    "\n",
    "# Using update() method\n",
    "concatenated_dict = {}\n",
    "concatenated_dict.update(dict1)\n",
    "concatenated_dict.update(dict2)\n",
    "concatenated_dict.update(dict3)\n",
    "\n",
    "# Using unpacking operator **\n",
    "concatenated_dict_2 = {**dict1, **dict2, **dict3}\n",
    "\n",
    "print(\"Concatenated dictionary using update():\", concatenated_dict)\n",
    "print(\"Concatenated dictionary using unpacking operator:\", concatenated_dict_2)\n"
   ]
  },
  {
   "cell_type": "code",
   "execution_count": 92,
   "id": "faba0283",
   "metadata": {},
   "outputs": [
    {
     "name": "stdout",
     "output_type": "stream",
     "text": [
      "The key 'b' exists in the dictionary.\n"
     ]
    }
   ],
   "source": [
    "#4. Write a Python script to check whether a given key already exists in a dictionary.\n",
    "# Sample dictionary\n",
    "my_dict = {'a': 1, 'b': 2, 'c': 3}\n",
    "\n",
    "# Key to check\n",
    "key = 'b'\n",
    "\n",
    "# Check if the key exists in the dictionary\n",
    "if key in my_dict:\n",
    "    print(f\"The key '{key}' exists in the dictionary.\")\n",
    "else:\n",
    "    print(f\"The key '{key}' does not exist in the dictionary.\")\n"
   ]
  },
  {
   "cell_type": "code",
   "execution_count": 93,
   "id": "b41f10c6",
   "metadata": {},
   "outputs": [
    {
     "name": "stdout",
     "output_type": "stream",
     "text": [
      "Iterating over keys:\n",
      "a\n",
      "b\n",
      "c\n",
      "\n",
      "Iterating over keys and values:\n",
      "a 1\n",
      "b 2\n",
      "c 3\n",
      "\n",
      "Iterating over values:\n",
      "1\n",
      "2\n",
      "3\n"
     ]
    }
   ],
   "source": [
    "#5. Write a Python program to iterate over dictionaries using for loops.\n",
    "# Sample dictionary\n",
    "my_dict = {'a': 1, 'b': 2, 'c': 3}\n",
    "\n",
    "# Iterating over keys\n",
    "print(\"Iterating over keys:\")\n",
    "for key in my_dict:\n",
    "    print(key)\n",
    "\n",
    "# Iterating over keys and values\n",
    "print(\"\\nIterating over keys and values:\")\n",
    "for key, value in my_dict.items():\n",
    "    print(key, value)\n",
    "\n",
    "# Iterating over values\n",
    "print(\"\\nIterating over values:\")\n",
    "for value in my_dict.values():\n",
    "    print(value)\n"
   ]
  },
  {
   "cell_type": "code",
   "execution_count": 94,
   "id": "23199e5e",
   "metadata": {},
   "outputs": [
    {
     "name": "stdout",
     "output_type": "stream",
     "text": [
      "{1: 1, 2: 4, 3: 9, 4: 16, 5: 25}\n"
     ]
    }
   ],
   "source": [
    "#6. Write a Python script to generate and print a dictionary that contains a number (between 1 and n) in the form (x, x*x).\n",
    "def generate_squared_dict(n):\n",
    "    squared_dict = {}\n",
    "    for x in range(1, n+1):\n",
    "        squared_dict[x] = x * x\n",
    "    return squared_dict\n",
    "\n",
    "# Example usage:\n",
    "n = 5\n",
    "result_dict = generate_squared_dict(n)\n",
    "print(result_dict)\n"
   ]
  },
  {
   "cell_type": "code",
   "execution_count": 95,
   "id": "4cc9479a",
   "metadata": {},
   "outputs": [
    {
     "name": "stdout",
     "output_type": "stream",
     "text": [
      "{1: 1, 2: 4, 3: 9, 4: 16, 5: 25, 6: 36, 7: 49, 8: 64, 9: 81, 10: 100, 11: 121, 12: 144, 13: 169, 14: 196, 15: 225}\n"
     ]
    }
   ],
   "source": [
    "#7. Write a Python script to print a dictionary where the keys are numbers between 1 and 15 (both included) and the values are the square of the keys.\n",
    "# Using dictionary comprehension to create the dictionary\n",
    "squared_dict = {x: x*x for x in range(1, 16)}\n",
    "\n",
    "# Printing the dictionary\n",
    "print(squared_dict)\n"
   ]
  },
  {
   "cell_type": "code",
   "execution_count": 96,
   "id": "099d9251",
   "metadata": {},
   "outputs": [
    {
     "name": "stdout",
     "output_type": "stream",
     "text": [
      "Merged dictionary using update(): {'a': 1, 'b': 2, 'c': 3, 'd': 4}\n",
      "Merged dictionary using unpacking operator: {'a': 1, 'b': 2, 'c': 3, 'd': 4}\n"
     ]
    }
   ],
   "source": [
    "#8. Write a Python script to merge two Python dictionaries.\n",
    "# Sample dictionaries\n",
    "dict1 = {'a': 1, 'b': 2}\n",
    "dict2 = {'c': 3, 'd': 4}\n",
    "\n",
    "# Method 1: Using the update() method\n",
    "merged_dict_1 = dict1.copy()  # Create a copy of dict1 to preserve the original dictionary\n",
    "merged_dict_1.update(dict2)\n",
    "\n",
    "# Method 2: Using the unpacking operator **\n",
    "merged_dict_2 = {**dict1, **dict2}\n",
    "\n",
    "print(\"Merged dictionary using update():\", merged_dict_1)\n",
    "print(\"Merged dictionary using unpacking operator:\", merged_dict_2)\n"
   ]
  },
  {
   "cell_type": "code",
   "execution_count": 97,
   "id": "e8f90109",
   "metadata": {},
   "outputs": [
    {
     "name": "stdout",
     "output_type": "stream",
     "text": [
      "Iterating over keys:\n",
      "a\n",
      "b\n",
      "c\n",
      "\n",
      "Iterating over keys and values:\n",
      "a 1\n",
      "b 2\n",
      "c 3\n",
      "\n",
      "Iterating over values:\n",
      "1\n",
      "2\n",
      "3\n"
     ]
    }
   ],
   "source": [
    "#9. Write a Python program to iterate over dictionaries using for loops.\n",
    "# Sample dictionary\n",
    "my_dict = {'a': 1, 'b': 2, 'c': 3}\n",
    "\n",
    "# Iterating over keys\n",
    "print(\"Iterating over keys:\")\n",
    "for key in my_dict:\n",
    "    print(key)\n",
    "\n",
    "# Iterating over keys and values\n",
    "print(\"\\nIterating over keys and values:\")\n",
    "for key, value in my_dict.items():\n",
    "    print(key, value)\n",
    "\n",
    "# Iterating over values\n",
    "print(\"\\nIterating over values:\")\n",
    "for value in my_dict.values():\n",
    "    print(value)\n"
   ]
  },
  {
   "cell_type": "code",
   "execution_count": 98,
   "id": "824a2049",
   "metadata": {},
   "outputs": [
    {
     "name": "stdout",
     "output_type": "stream",
     "text": [
      "Total sum of all items in the dictionary: 60\n"
     ]
    }
   ],
   "source": [
    "#10. Write a Python program to sum all the items in a dictionary.\n",
    "# Sample dictionary\n",
    "my_dict = {'a': 10, 'b': 20, 'c': 30}\n",
    "\n",
    "# Summing all the values\n",
    "total_sum = sum(my_dict.values())\n",
    "\n",
    "print(\"Total sum of all items in the dictionary:\", total_sum)\n"
   ]
  },
  {
   "cell_type": "code",
   "execution_count": 99,
   "id": "2d791e90",
   "metadata": {},
   "outputs": [
    {
     "name": "stdout",
     "output_type": "stream",
     "text": [
      "Result of multiplying all items in the dictionary: 24\n"
     ]
    }
   ],
   "source": [
    "#11. Write a Python program to multiply all the items in a dictionary.\n",
    "# Sample dictionary\n",
    "my_dict = {'a': 2, 'b': 3, 'c': 4}\n",
    "\n",
    "# Initialize the result to 1\n",
    "result = 1\n",
    "\n",
    "# Multiply all the values together\n",
    "for value in my_dict.values():\n",
    "    result *= value\n",
    "\n",
    "print(\"Result of multiplying all items in the dictionary:\", result)\n",
    "\n"
   ]
  },
  {
   "cell_type": "code",
   "execution_count": 100,
   "id": "fe702655",
   "metadata": {},
   "outputs": [
    {
     "name": "stdout",
     "output_type": "stream",
     "text": [
      "Dictionary after removing key: {'a': 1, 'c': 3}\n"
     ]
    }
   ],
   "source": [
    "#12. Write a Python program to remove a key from a dictionary.\n",
    "\n",
    "# Sample dictionary\n",
    "my_dict = {'a': 1, 'b': 2, 'c': 3}\n",
    "\n",
    "# Key to remove\n",
    "key_to_remove = 'b'\n",
    "\n",
    "# Removing the key using del statement\n",
    "del my_dict[key_to_remove]\n",
    "\n",
    "print(\"Dictionary after removing key:\", my_dict)\n"
   ]
  },
  {
   "cell_type": "code",
   "execution_count": 101,
   "id": "e4eebbcf",
   "metadata": {},
   "outputs": [
    {
     "name": "stdout",
     "output_type": "stream",
     "text": [
      "Mapped dictionary: {'a': 1, 'b': 2, 'c': 3}\n"
     ]
    }
   ],
   "source": [
    "#13. Write a Python program to map two lists into a dictionary.\n",
    "\n",
    "# Two lists\n",
    "keys = ['a', 'b', 'c']\n",
    "values = [1, 2, 3]\n",
    "\n",
    "# Mapping lists to a dictionary\n",
    "mapped_dict = dict(zip(keys, values))\n",
    "\n",
    "print(\"Mapped dictionary:\", mapped_dict)\n"
   ]
  },
  {
   "cell_type": "code",
   "execution_count": 102,
   "id": "d71eae49",
   "metadata": {},
   "outputs": [
    {
     "name": "stdout",
     "output_type": "stream",
     "text": [
      "Sorted dictionary by key: {'a': 1, 'b': 2, 'c': 3}\n"
     ]
    }
   ],
   "source": [
    "#14. Write a Python program to sort a given dictionary by key.\n",
    "\n",
    "# Sample dictionary\n",
    "my_dict = {'b': 2, 'c': 3, 'a': 1}\n",
    "\n",
    "# Sorting the dictionary by keys\n",
    "sorted_dict = dict(sorted(my_dict.items()))\n",
    "\n",
    "print(\"Sorted dictionary by key:\", sorted_dict)\n"
   ]
  },
  {
   "cell_type": "code",
   "execution_count": 103,
   "id": "503cbb49",
   "metadata": {},
   "outputs": [
    {
     "name": "stdout",
     "output_type": "stream",
     "text": [
      "Maximum value: 20\n",
      "Minimum value: 5\n",
      "Maximum value: 20\n",
      "Minimum value: 5\n"
     ]
    }
   ],
   "source": [
    "# Sample dictionary\n",
    "my_dict = {'a': 10, 'b': 20, 'c': 5}\n",
    "\n",
    "# Getting the maximum and minimum values\n",
    "max_value = max(my_dict.values())\n",
    "min_value = min(my_dict.values())\n",
    "\n",
    "print(\"Maximum value:\", max_value)\n",
    "print(\"Minimum value:\", min_value)\n",
    "\n",
    "# Sample dictionary\n",
    "my_dict = {'a': 10, 'b': 20, 'c': 5}\n",
    "\n",
    "# Getting the maximum and minimum values\n",
    "max_value = max(my_dict.values())\n",
    "min_value = min(my_dict.values())\n",
    "\n",
    "print(\"Maximum value:\", max_value)\n",
    "print(\"Minimum value:\", min_value)\n"
   ]
  },
  {
   "cell_type": "code",
   "execution_count": 104,
   "id": "ab052961",
   "metadata": {},
   "outputs": [
    {
     "name": "stdout",
     "output_type": "stream",
     "text": [
      "Dictionary from object's fields: {'a': 1, 'b': 2, 'c': 3}\n"
     ]
    }
   ],
   "source": [
    "#16. Write a Python program to get a dictionary from an object's fields.\n",
    "class MyClass:\n",
    "    def __init__(self, a, b, c):\n",
    "        self.a = a\n",
    "        self.b = b\n",
    "        self.c = c\n",
    "\n",
    "# Create an instance of MyClass\n",
    "obj = MyClass(1, 2, 3)\n",
    "\n",
    "# Create a dictionary from the object's attributes\n",
    "obj_dict = {key: getattr(obj, key) for key in vars(obj)}\n",
    "\n",
    "print(\"Dictionary from object's fields:\", obj_dict)\n",
    "\n"
   ]
  },
  {
   "cell_type": "code",
   "execution_count": 105,
   "id": "15c10d9e",
   "metadata": {},
   "outputs": [
    {
     "name": "stdout",
     "output_type": "stream",
     "text": [
      "Dictionary after removing duplicates: {'a': 1, 'b': 2, 'c': 1, 'd': 3, 'e': 2}\n"
     ]
    }
   ],
   "source": [
    "#17. Write a Python program to remove duplicates from the dictionary.\n",
    "# Sample dictionary with duplicates\n",
    "my_dict = {'a': 1, 'b': 2, 'c': 1, 'd': 3, 'e': 2}\n",
    "\n",
    "# Removing duplicates\n",
    "unique_dict = {key: value for key, value in my_dict.items()}\n",
    "\n",
    "print(\"Dictionary after removing duplicates:\", unique_dict)\n",
    "\n"
   ]
  },
  {
   "cell_type": "code",
   "execution_count": 106,
   "id": "7a355bd2",
   "metadata": {},
   "outputs": [
    {
     "name": "stdout",
     "output_type": "stream",
     "text": [
      "The dictionary is empty!\n"
     ]
    }
   ],
   "source": [
    "#18. Write a Python program to check if a dictionary is empty or not.\n",
    "\n",
    "# Sample dictionary\n",
    "my_dict = {}\n",
    "\n",
    "# Check if the dictionary is empty\n",
    "if not my_dict:\n",
    "    print(\"The dictionary is empty!\")\n",
    "else:\n",
    "    print(\"The dictionary is not empty.\")\n"
   ]
  },
  {
   "cell_type": "code",
   "execution_count": 107,
   "id": "1c74889b",
   "metadata": {},
   "outputs": [
    {
     "name": "stdout",
     "output_type": "stream",
     "text": [
      "Combined dictionary by adding values for common keys: Counter({'a': 400, 'b': 400, 'd': 400, 'c': 300})\n"
     ]
    }
   ],
   "source": [
    "#19. Write a Python program to combine two dictionary by adding values for common keys.\n",
    "#d1 = {'a': 100, 'b': 200, 'c':300}\n",
    "#d2 = {'a': 300, 'b': 200, 'd':400}\n",
    "#Sample output: Counter({'a': 400, 'b': 400, 'd': 400, 'c': 300})\n",
    "from collections import Counter\n",
    "\n",
    "# Sample dictionaries\n",
    "d1 = {'a': 100, 'b': 200, 'c': 300}\n",
    "d2 = {'a': 300, 'b': 200, 'd': 400}\n",
    "\n",
    "# Combining dictionaries by adding values for common keys\n",
    "combined_dict = Counter(d1) + Counter(d2)\n",
    "\n",
    "print(\"Combined dictionary by adding values for common keys:\", combined_dict)\n",
    "\n"
   ]
  },
  {
   "cell_type": "code",
   "execution_count": 108,
   "id": "2136fa24",
   "metadata": {},
   "outputs": [
    {
     "name": "stdout",
     "output_type": "stream",
     "text": [
      "Unique Values: {'S001', 'S009', 'S007', 'S005', 'S002'}\n"
     ]
    }
   ],
   "source": [
    "#20. Write a Python program to print all distinct values in a dictionary.\n",
    "#Sample Data : [{\"V\":\"S001\"}, {\"V\": \"S002\"}, {\"VI\": \"S001\"}, {\"VI\": \"S005\"}, {\"VII\":\"S005\"}, {\"V\":\"S009\"},{\"VIII\":\"S007\"}]\n",
    "#Expected Output : Unique Values: {'S005', 'S002', 'S007', 'S001', 'S009'}\n",
    "# Sample Data\n",
    "data = [\n",
    "    {\"V\": \"S001\"},\n",
    "    {\"V\": \"S002\"},\n",
    "    {\"VI\": \"S001\"},\n",
    "    {\"VI\": \"S005\"},\n",
    "    {\"VII\": \"S005\"},\n",
    "    {\"V\": \"S009\"},\n",
    "    {\"VIII\": \"S007\"}\n",
    "]\n",
    "\n",
    "# Extracting values and adding them to a set to get unique values\n",
    "unique_values = set(val for dic in data for val in dic.values())\n",
    "\n",
    "print(\"Unique Values:\", unique_values)\n"
   ]
  },
  {
   "cell_type": "code",
   "execution_count": null,
   "id": "c75551dc",
   "metadata": {},
   "outputs": [],
   "source": []
  }
 ],
 "metadata": {
  "kernelspec": {
   "display_name": "Python 3 (ipykernel)",
   "language": "python",
   "name": "python3"
  },
  "language_info": {
   "codemirror_mode": {
    "name": "ipython",
    "version": 3
   },
   "file_extension": ".py",
   "mimetype": "text/x-python",
   "name": "python",
   "nbconvert_exporter": "python",
   "pygments_lexer": "ipython3",
   "version": "3.11.5"
  }
 },
 "nbformat": 4,
 "nbformat_minor": 5
}
